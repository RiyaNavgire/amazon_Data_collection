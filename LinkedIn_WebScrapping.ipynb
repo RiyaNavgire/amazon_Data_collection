{
  "cells": [
    {
      "cell_type": "markdown",
      "metadata": {
        "id": "view-in-github",
        "colab_type": "text"
      },
      "source": [
        "<a href=\"https://colab.research.google.com/github/RiyaNavgire/amazon_Data_collection/blob/master/LinkedIn_WebScrapping.ipynb\" target=\"_parent\"><img src=\"https://colab.research.google.com/assets/colab-badge.svg\" alt=\"Open In Colab\"/></a>"
      ]
    },
    {
      "cell_type": "code",
      "execution_count": null,
      "id": "eccb9d5e",
      "metadata": {
        "id": "eccb9d5e"
      },
      "outputs": [],
      "source": [
        "from selenium import webdriver\n",
        "from selenium.webdriver.common.by import By\n",
        "from bs4 import BeautifulSoup\n",
        "import time\n",
        "import pandas as pd"
      ]
    },
    {
      "cell_type": "code",
      "execution_count": null,
      "id": "2819d434",
      "metadata": {
        "id": "2819d434",
        "outputId": "406d70c8-52f5-4813-93a2-5cacdcfde92b"
      },
      "outputs": [
        {
          "data": {
            "text/plain": [
              "'https://www.linkedin.com/jobs/search?keywords=Data%20Analyst&location=United%20States&geoId=103644278&trk=public_jobs_jobs-search-bar_search-submit&position=1&pageNum=0'"
            ]
          },
          "execution_count": 9,
          "metadata": {},
          "output_type": "execute_result"
        }
      ],
      "source": [
        "job_name = \"Data Analyst\"\n",
        "country_name = \"United States\"\n",
        "\n",
        "job_url =\"\";\n",
        "for item in job_name.split(\" \"):\n",
        "    if item != job_name.split(\" \")[-1]:\n",
        "        job_url = job_url + item + \"%20\"\n",
        "    else:\n",
        "        job_url = job_url + item\n",
        "\n",
        "country_url =\"\";\n",
        "for item in country_name.split(\" \"):\n",
        "    if item != country_name.split(\" \")[-1]:\n",
        "        country_url = country_url + item + \"%20\"\n",
        "    else:\n",
        "        country_url = country_url + item\n",
        "\n",
        "url = \"https://www.linkedin.com/jobs/search?keywords={0}&location={1}&geoId=103644278&trk=public_jobs_jobs-search-bar_search-submit&position=1&pageNum=0\"\n",
        "url.format(job_url,country_url)"
      ]
    },
    {
      "cell_type": "code",
      "execution_count": null,
      "id": "0e14dd96",
      "metadata": {
        "id": "0e14dd96"
      },
      "outputs": [],
      "source": [
        "# Creating a webdriver instance\n",
        "driver = webdriver.Chrome(\"D:\\\\chromedriver.exe\")\n",
        "# Opening the url we have just defined in our browser\n",
        "driver.get(url)"
      ]
    },
    {
      "cell_type": "code",
      "execution_count": null,
      "id": "1d2d24d9",
      "metadata": {
        "id": "1d2d24d9",
        "outputId": "d22b7ba2-86d7-47cb-fb81-3bbdfee5cd9f"
      },
      "outputs": [
        {
          "name": "stdout",
          "output_type": "stream",
          "text": [
            "Current at:  7 Percentage at:  133.33333333333331 %\r"
          ]
        }
      ],
      "source": [
        "#We find how many jobs are offered.\n",
        "jobs_num = driver.find_element(By.CSS_SELECTOR,\"h1>span\").get_attribute(\"innerText\")\n",
        "if len(jobs_num.split(',')) > 1:\n",
        "    jobs_num = int(jobs_num.split(',')[0])*1000\n",
        "else:\n",
        "    jobs_num = int(jobs_num)\n",
        "\n",
        "jobs_num   = int(jobs_num)\n",
        "jobs_num   = 10\n",
        "\n",
        "#We create a while loop to browse all jobs. \n",
        "i = 2\n",
        "while i <= int(jobs_num/2)+1:\n",
        "    #We keep scrollind down to the end of the view.\n",
        "    driver.execute_script(\"window.scrollTo(0, document.body.scrollHeight);\")\n",
        "    i = i + 1\n",
        "    print(\"Current at: \", i, \"Percentage at: \", ((i+1)/(int(jobs_num/2)+1))*100, \"%\",end=\"\\r\")\n",
        "    try:\n",
        "        #We try to click on the load more results buttons in case it is already displayed.\n",
        "        infinite_scroller_button = driver.find_element(By.XPATH, \".//button[@aria-label='Load more results']\")\n",
        "        infinite_scroller_button.click()\n",
        "        time.sleep(0.1)        \n",
        "    except:\n",
        "        #If there is no button, there will be an error, so we keep scrolling down.\n",
        "        time.sleep(0.1)\n",
        "        pass\n",
        "\n",
        "    "
      ]
    },
    {
      "cell_type": "code",
      "execution_count": null,
      "id": "ae691c09",
      "metadata": {
        "id": "ae691c09"
      },
      "outputs": [],
      "source": [
        "#We get a list containing all jobs that we have found.\n",
        "job_lists = driver.find_element(By.CLASS_NAME,\"jobs-search__results-list\")\n",
        "jobs = job_lists.find_elements(By.TAG_NAME,\"li\") # return a list\n",
        "\n",
        "#We declare void list to keep track of all obtaind data.\n",
        "job_title_list = []\n",
        "company_name_list = []\n",
        "location_list = []\n",
        "date_list = []\n",
        "job_link_list = []\n",
        "\n",
        "#We loof over every job and obtain all the wanted info.\n",
        "for job in jobs:\n",
        "    #job_title\n",
        "    job_title = job.find_element(By.CSS_SELECTOR,\"h3\").get_attribute(\"innerText\")\n",
        "    job_title_list.append(job_title)\n",
        "    \n",
        "    #company_name\n",
        "    company_name = job.find_element(By.CSS_SELECTOR,\"h4\").get_attribute(\"innerText\")\n",
        "    company_name_list.append(company_name)\n",
        "    \n",
        "    #location\n",
        "    location = job.find_element(By.CSS_SELECTOR,\"div>div>span\").get_attribute(\"innerText\")\n",
        "    location_list.append(location)\n",
        "    \n",
        "    #date\n",
        "    date = job.find_element(By.CSS_SELECTOR,\"div>div>time\").get_attribute(\"datetime\")\n",
        "    date_list.append(date)\n",
        "    \n",
        "    #job_link\n",
        "    job_link = job.find_element(By.CSS_SELECTOR,\"a\").get_attribute(\"href\")\n",
        "    job_link_list.append(job_link)"
      ]
    },
    {
      "cell_type": "code",
      "execution_count": null,
      "id": "f3cc34e8",
      "metadata": {
        "id": "f3cc34e8",
        "outputId": "ac918ac9-d7e6-42f2-ef1b-7be48223830c"
      },
      "outputs": [
        {
          "name": "stdout",
          "output_type": "stream",
          "text": [
            "0\n",
            "Current at:  0 Percentage at:  2.0 %\n",
            "1\n",
            "Current at:  1 Percentage at:  4.0 %\n",
            "2\n",
            "Current at:  2 Percentage at:  6.0 %\n",
            "3\n",
            "Current at:  3 Percentage at:  8.0 %\n",
            "4\n",
            "Current at:  4 Percentage at:  10.0 %\n",
            "5\n",
            "Current at:  5 Percentage at:  12.0 %\n",
            "6\n",
            "Current at:  6 Percentage at:  14.000000000000002 %\n",
            "7\n",
            "Current at:  7 Percentage at:  16.0 %\n",
            "8\n",
            "Current at:  8 Percentage at:  18.0 %\n",
            "9\n",
            "Current at:  9 Percentage at:  20.0 %\n",
            "10\n",
            "Current at:  10 Percentage at:  22.0 %\n",
            "11\n",
            "Current at:  11 Percentage at:  24.0 %\n",
            "12\n",
            "Current at:  12 Percentage at:  26.0 %\n",
            "13\n",
            "Current at:  13 Percentage at:  28.000000000000004 %\n",
            "14\n",
            "Current at:  14 Percentage at:  30.0 %\n",
            "15\n",
            "Current at:  15 Percentage at:  32.0 %\n",
            "16\n",
            "Current at:  16 Percentage at:  34.0 %\n",
            "17\n",
            "Current at:  17 Percentage at:  36.0 %\n",
            "18\n",
            "Current at:  18 Percentage at:  38.0 %\n",
            "19\n",
            "Current at:  19 Percentage at:  40.0 %\n",
            "20\n",
            "Current at:  20 Percentage at:  42.0 %\n",
            "21\n",
            "Current at:  21 Percentage at:  44.0 %\n",
            "22\n",
            "Current at:  22 Percentage at:  46.0 %\n",
            "23\n",
            "Current at:  23 Percentage at:  48.0 %\n",
            "24\n",
            "Current at:  24 Percentage at:  50.0 %\n",
            "25\n",
            "Current at:  25 Percentage at:  52.0 %\n",
            "26\n",
            "Current at:  26 Percentage at:  54.0 %\n",
            "27\n",
            "Current at:  27 Percentage at:  56.00000000000001 %\n",
            "28\n",
            "Current at:  28 Percentage at:  57.99999999999999 %\n",
            "29\n",
            "Current at:  29 Percentage at:  60.0 %\n",
            "30\n",
            "Current at:  30 Percentage at:  62.0 %\n",
            "31\n",
            "Current at:  31 Percentage at:  64.0 %\n",
            "32\n",
            "Current at:  32 Percentage at:  66.0 %\n",
            "33\n",
            "Current at:  33 Percentage at:  68.0 %\n",
            "34\n",
            "Current at:  34 Percentage at:  70.0 %\n",
            "35\n",
            "Current at:  35 Percentage at:  72.0 %\n",
            "36\n",
            "Current at:  36 Percentage at:  74.0 %\n",
            "37\n",
            "Current at:  37 Percentage at:  76.0 %\n",
            "38\n",
            "Current at:  38 Percentage at:  78.0 %\n",
            "39\n",
            "Current at:  39 Percentage at:  80.0 %\n",
            "40\n",
            "Current at:  40 Percentage at:  82.0 %\n",
            "41\n",
            "Current at:  41 Percentage at:  84.0 %\n",
            "42\n",
            "Current at:  42 Percentage at:  86.0 %\n",
            "43\n",
            "Current at:  43 Percentage at:  88.0 %\n",
            "44\n",
            "Current at:  44 Percentage at:  90.0 %\n",
            "45\n",
            "Current at:  45 Percentage at:  92.0 %\n",
            "46\n",
            "Current at:  46 Percentage at:  94.0 %\n",
            "47\n",
            "Current at:  47 Percentage at:  96.0 %\n",
            "48\n",
            "Current at:  48 Percentage at:  98.0 %\n",
            "49\n",
            "Current at:  49 Percentage at:  100.0 %\n"
          ]
        }
      ],
      "source": [
        "jd = [] #job_description\n",
        "seniority = []\n",
        "emp_type = []\n",
        "job_func = []\n",
        "job_ind = []\n",
        "\n",
        "for item in range(len(jobs)):\n",
        "    print(item)\n",
        "    job_func0=[]\n",
        "    industries0=[]\n",
        "    # clicking job to view job details\n",
        "    \n",
        "    #__________________________________________________________________________ JOB Link\n",
        "    \n",
        "    try: \n",
        "        job_click_path = f'/html/body/div/div/main/section/ul/li[{item+1}]'\n",
        "        job_click = job.find_element(By.XPATH,job_click_path).click()\n",
        "    except:\n",
        "        pass\n",
        "    #job_click = job.find_element(By.XPATH,'.//a[@class=\"base-card_full-link\"]')\n",
        "    \n",
        "    #__________________________________________________________________________ JOB Description\n",
        "    jd_path = '/html/body/div/div/section/div/div/section/div/div/section/div'\n",
        "    try:\n",
        "        jd0 = job.find_element(By.XPATH,jd_path).get_attribute('innerText')\n",
        "        jd.append(jd0)\n",
        "    except:\n",
        "        jd.append(None)\n",
        "        pass\n",
        "    \n",
        "    #__________________________________________________________________________ JOB Seniority\n",
        "    seniority_path='/html/body/div/div/section/div/div/section/div/ul/li[1]/span'\n",
        "    \n",
        "    try:\n",
        "        seniority0 = job.find_element(By.XPATH,seniority_path).get_attribute('innerText')\n",
        "        seniority.append(seniority0)\n",
        "    except:\n",
        "        seniority.append(None)\n",
        "        pass\n",
        "\n",
        "    #__________________________________________________________________________ JOB Time\n",
        "    emp_type_path='/html/body/div/div/section/div/div/section/div/ul/li[2]/span'\n",
        "    \n",
        "    try:\n",
        "        emp_type0 = job.find_element(By.XPATH,emp_type_path).get_attribute('innerText')\n",
        "        emp_type.append(emp_type0)\n",
        "    except:\n",
        "        emp_type.append(None)\n",
        "        pass\n",
        "    \n",
        "    #__________________________________________________________________________ JOB Function\n",
        "    function_path='/html/body/div/div/section/div/div/section/div/ul/li[3]/span'\n",
        "    \n",
        "    try:\n",
        "        func0 = job.find_element(By.XPATH,function_path).get_attribute('innerText')\n",
        "        job_func.append(func0)\n",
        "    except:\n",
        "        job_func.append(None)\n",
        "        pass\n",
        "\n",
        "    #__________________________________________________________________________ JOB Industry\n",
        "    industry_path='/html/body/div/div/section/div/div/section/div/ul/li[4]/span'\n",
        "    \n",
        "    try:\n",
        "        ind0 = job.find_element(By.XPATH,industry_path).get_attribute('innerText')\n",
        "        job_ind.append(ind0)\n",
        "    except:\n",
        "        job_ind.append(None)\n",
        "        pass\n",
        "    \n",
        "    print(\"Current at: \", item, \"Percentage at: \", (item+1)/len(jobs)*100, \"%\")"
      ]
    },
    {
      "cell_type": "code",
      "execution_count": null,
      "id": "2396a3f6",
      "metadata": {
        "id": "2396a3f6"
      },
      "outputs": [],
      "source": [
        "job_data = pd.DataFrame({\n",
        "    'Date': date,\n",
        "    'Company': company_name,\n",
        "    'Title': job_title,\n",
        "    'Location': location,\n",
        "    'Description': jd,\n",
        "    'Level': seniority,\n",
        "    'Type': emp_type,\n",
        "    'Function': job_func,\n",
        "    'Industry': job_ind,\n",
        "    'Link': job_link\n",
        "})"
      ]
    },
    {
      "cell_type": "code",
      "execution_count": null,
      "id": "be61417e",
      "metadata": {
        "id": "be61417e"
      },
      "outputs": [],
      "source": [
        "job_data"
      ]
    },
    {
      "cell_type": "code",
      "execution_count": null,
      "id": "22d3acae",
      "metadata": {
        "id": "22d3acae"
      },
      "outputs": [],
      "source": [
        "job_data.to_csv('D:\\\\linkedIn.csv')"
      ]
    },
    {
      "cell_type": "code",
      "execution_count": null,
      "id": "65d63b9a",
      "metadata": {
        "id": "65d63b9a"
      },
      "outputs": [],
      "source": []
    }
  ],
  "metadata": {
    "kernelspec": {
      "display_name": "Python 3 (ipykernel)",
      "language": "python",
      "name": "python3"
    },
    "language_info": {
      "codemirror_mode": {
        "name": "ipython",
        "version": 3
      },
      "file_extension": ".py",
      "mimetype": "text/x-python",
      "name": "python",
      "nbconvert_exporter": "python",
      "pygments_lexer": "ipython3",
      "version": "3.8.3"
    },
    "colab": {
      "provenance": [],
      "include_colab_link": true
    }
  },
  "nbformat": 4,
  "nbformat_minor": 5
}