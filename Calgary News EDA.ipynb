{
 "cells": [
  {
   "cell_type": "code",
   "execution_count": 5,
   "id": "9bd03786",
   "metadata": {},
   "outputs": [],
   "source": [
    "import pandas as pd\n",
    "import numpy as np\n",
    "import json"
   ]
  },
  {
   "cell_type": "code",
   "execution_count": 13,
   "id": "94a59e8a",
   "metadata": {},
   "outputs": [],
   "source": [
    "path = \"D://MLProjectNeuron//dataTrials//calgary_news_artifact//data_ingestion//20230127_151033//downloaded_files//news.json\"\n"
   ]
  },
  {
   "cell_type": "code",
   "execution_count": 14,
   "id": "848e74cc",
   "metadata": {},
   "outputs": [
    {
     "name": "stdout",
     "output_type": "stream",
     "text": [
      "['[{\"title\":\"Police charge man and search for woman involved in serious incident\",\"pubdate\":\"2023-01-26T14:10:37.000\",\"link\":{\"url\":\"https://newsroom.calgary.ca/police-charge-man-and-search-for-woman-involved-in-serious-incident/\"}}\\n', ',{\"title\":\"Students urged to help reimagine downtown places through Sketch Mob\",\"pubdate\":\"2023-01-26T11:54:18.000\",\"link\":{\"url\":\"https://newsroom.calgary.ca/students-urged-to-help-reimagine-downtown-places-through-sketch-mob/\"}}\\n', ',{\"title\":\"Calgarys development and construction industry strong through 2022: a year in review\",\"pubdate\":\"2023-01-26T10:56:57.000\",\"link\":{\"url\":\"https://newsroom.calgary.ca/calgarys-development-and-construction-industry-strong-through-2022-a-year-in-review/\"}}\\n', ',{\"title\":\"The City welcomes innovative food rescue and food waste diversion pilot for Calgary businesses and organizations\",\"pubdate\":\"2023-01-26T09:00:00.000\",\"link\":{\"url\":\"https://newsroom.calgary.ca/the-city-welcomes-innovative-food-rescue-and-organic-waste-diversion-pilot-for-calgary-businesses-and-organizations/\"}}\\n', ',{\"title\":\"Two individuals wanted on warrants in relation to home invasion\",\"pubdate\":\"2023-01-25T16:40:21.000\",\"link\":{\"url\":\"https://newsroom.calgary.ca/two-individuals-wanted-on-warrants-in-relation-to-home-invasion/\"}}\\n', ',{\"title\":\"Police seek information in fatal incident involving pedestrian\",\"pubdate\":\"2023-01-25T16:20:15.000\",\"link\":{\"url\":\"https://newsroom.calgary.ca/police-seek-information-in-fatal-incident-involving-pedestrian/\"}}\\n', ',{\"title\":\"Eligible residents can now apply for a Market Permit for on-street parking\",\"pubdate\":\"2023-01-25T09:00:00.000\",\"link\":{\"url\":\"https://newsroom.calgary.ca/eligible-residents-can-now-apply-for-a-market-permit-for-on-street-parking/\"}}\\n', ',{\"title\":\"Police request public assistance to locate stolen urn\",\"pubdate\":\"2023-01-24T15:49:35.000\",\"link\":{\"url\":\"https://newsroom.calgary.ca/police-request-public-assistance-to-locate-stolen-urn/\"}}\\n', ',{\"title\":\"Commission holds January regular meeting\",\"pubdate\":\"2023-01-24T10:27:00.000\",\"link\":{\"url\":\"https://newsroom.calgary.ca/commission-holds-january-regular-meeting/\"}}\\n', ',{\"title\":\"Seeking assistance to locate missing woman - Molly HALL\",\"pubdate\":\"2023-01-23T15:14:17.000\",\"link\":{\"url\":\"https://newsroom.calgary.ca/seeking-assistance-to-locate-missing-woman---molly-hall/\"}}\\n', ',{\"title\":\"Police charge man in fatal July collision\",\"pubdate\":\"2023-01-23T12:29:18.000\",\"link\":{\"url\":\"https://newsroom.calgary.ca/police-charge-man-in-fatal-july-collision/\"}}\\n', ',{\"title\":\"Provide feedback on parking recreational  vehicles on residential properties\",\"pubdate\":\"2023-01-23T11:56:22.000\",\"link\":{\"url\":\"https://newsroom.calgary.ca/provide-feedback-on-parking-recreational--vehicles-on-residential-properties/\"}}\\n', ',{\"title\":\"Police investigate fatal Macleod Trail collision\",\"pubdate\":\"2023-01-22T13:13:51.000\",\"link\":{\"url\":\"https://newsroom.calgary.ca/police-investigate-fatal-macleod-trail-collision/\"}}\\n', ',{\"title\":\"Police arrest man wanted on warrant for sexual assault and lay additional charge\",\"pubdate\":\"2023-01-20T12:56:45.000\",\"link\":{\"url\":\"https://newsroom.calgary.ca/police-arrest-man-wanted-on-warrant-for-sexual-assault-and-lay-additional-charge/\"}}\\n', ',{\"title\":\"Calgary Transit Ambassador program  one month in and already making a difference\",\"pubdate\":\"2023-01-20T09:23:55.000\",\"link\":{\"url\":\"https://newsroom.calgary.ca/calgary-transit-ambassador-program--one-month-in-and-already-making-a-difference/\"}}\\n', ',{\"title\":\"Two people charged in attempted kidnapping and shooting incident\",\"pubdate\":\"2023-01-19T10:15:27.000\",\"link\":{\"url\":\"https://newsroom.calgary.ca/two-people-charged-in-attempted-kidnapping-and-shooting-incident/\"}}\\n', ',{\"title\":\"Were hiring! Calgary Transit is recruiting Transit Operators and Journeyperson 1  Truck and Transport Technicians\",\"pubdate\":\"2023-01-19T10:05:43.000\",\"link\":{\"url\":\"https://newsroom.calgary.ca/were-hiring-calgary-transit-is-recruiting-transit-operators-and-journeyperson-1--truck-and-transport-technicians/\"}}\\n', ',{\"title\":\"Police charge Calgary man and woman in relation to drug and weapon seizure\",\"pubdate\":\"2023-01-19T09:28:29.000\",\"link\":{\"url\":\"https://newsroom.calgary.ca/police-charge-calgary-man-and-woman-in-relation-to-drug-and-weapon-seizure/\"}}\\n', ',{\"title\":\"Six youth charged, two outstanding, in swarming attack on store employees\",\"pubdate\":\"2023-01-19T09:11:02.000\",\"link\":{\"url\":\"https://newsroom.calgary.ca/six-youth-charged-two-outstanding-in-swarming-attack-on-store-employees/\"}}\\n', ',{\"title\":\"Police charge man with hit and run from June incident\",\"pubdate\":\"2023-01-19T08:19:20.000\",\"link\":{\"url\":\"https://newsroom.calgary.ca/police-charge-man-with-hit-and-run-from-june-incident/\"}}\\n', ',{\"title\":\"Police seek public assistance to locate missing woman  RUSSELL\",\"pubdate\":\"2023-01-18T18:33:37.000\",\"link\":{\"url\":\"https://newsroom.calgary.ca/police-seek-public-assistance-to-locate-missing-woman--russell/\"}}\\n', ',{\"title\":\"Police investigate pedestrian collision in the northwest\",\"pubdate\":\"2023-01-18T12:34:14.000\",\"link\":{\"url\":\"https://newsroom.calgary.ca/police-investigate-pedestrian-collision-in-the-northwest/\"}}\\n', ',{\"title\":\"Calgary Police Service member charged by RCMP in off-duty incident\",\"pubdate\":\"2023-01-17T15:23:02.000\",\"link\":{\"url\":\"https://newsroom.calgary.ca/calgary-police-service-member-charged-by-rcmp-in-off-duty-incident/\"}}\\n', ',{\"title\":\"Calgary Fire Crews Respond to Explosion at South East Distillery\",\"pubdate\":\"2023-01-17T15:22:26.000\",\"link\":{\"url\":\"https://newsroom.calgary.ca/calgary-fire-crews-respond-to-explosion-at-south-east-distillery/\"}}\\n', ',{\"title\":\"Calgary Police Service welcomes new members to its Anti-Racism Action Committee\",\"pubdate\":\"2023-01-17T14:47:45.000\",\"link\":{\"url\":\"https://newsroom.calgary.ca/calgary-police-service-welcomes-new-members-to-its-anti-racism-action-committee/\"}}\\n', ',{\"title\":\"City of Calgary Newsroom\",\"link\":{\"url\":\"https://newsroom.calgary.ca/\"}}]\\n']\n"
     ]
    }
   ],
   "source": [
    "with open(path,encoding= 'utf-8', errors= 'ignore') as f:\n",
    "    content = f.readlines()\n",
    "    print(content)"
   ]
  },
  {
   "cell_type": "code",
   "execution_count": 15,
   "id": "cece58ed",
   "metadata": {},
   "outputs": [
    {
     "name": "stdout",
     "output_type": "stream",
     "text": [
      "['[{\"title\":\"Police charge man and search for woman involved in serious incident\",\"pubdate\":\"2023-01-26T14:10:37.000\",\"link\":{\"url\":\"https://newsroom.calgary.ca/police-charge-man-and-search-for-woman-involved-in-serious-incident/\"}}\\n', ',{\"title\":\"Students urged to help reimagine downtown places through Sketch Mob\",\"pubdate\":\"2023-01-26T11:54:18.000\",\"link\":{\"url\":\"https://newsroom.calgary.ca/students-urged-to-help-reimagine-downtown-places-through-sketch-mob/\"}}\\n', ',{\"title\":\"Calgary\\x92s development and construction industry strong through 2022: a year in review\",\"pubdate\":\"2023-01-26T10:56:57.000\",\"link\":{\"url\":\"https://newsroom.calgary.ca/calgarys-development-and-construction-industry-strong-through-2022-a-year-in-review/\"}}\\n', ',{\"title\":\"The City welcomes innovative food rescue and food waste diversion pilot for Calgary businesses and organizations\",\"pubdate\":\"2023-01-26T09:00:00.000\",\"link\":{\"url\":\"https://newsroom.calgary.ca/the-city-welcomes-innovative-food-rescue-and-organic-waste-diversion-pilot-for-calgary-businesses-and-organizations/\"}}\\n', ',{\"title\":\"Two individuals wanted on warrants in relation to home invasion\",\"pubdate\":\"2023-01-25T16:40:21.000\",\"link\":{\"url\":\"https://newsroom.calgary.ca/two-individuals-wanted-on-warrants-in-relation-to-home-invasion/\"}}\\n', ',{\"title\":\"Police seek information in fatal incident involving pedestrian\",\"pubdate\":\"2023-01-25T16:20:15.000\",\"link\":{\"url\":\"https://newsroom.calgary.ca/police-seek-information-in-fatal-incident-involving-pedestrian/\"}}\\n', ',{\"title\":\"Eligible residents can now apply for a Market Permit for on-street parking\",\"pubdate\":\"2023-01-25T09:00:00.000\",\"link\":{\"url\":\"https://newsroom.calgary.ca/eligible-residents-can-now-apply-for-a-market-permit-for-on-street-parking/\"}}\\n', ',{\"title\":\"Police request public assistance to locate stolen urn\",\"pubdate\":\"2023-01-24T15:49:35.000\",\"link\":{\"url\":\"https://newsroom.calgary.ca/police-request-public-assistance-to-locate-stolen-urn/\"}}\\n', ',{\"title\":\"Commission holds January regular meeting\",\"pubdate\":\"2023-01-24T10:27:00.000\",\"link\":{\"url\":\"https://newsroom.calgary.ca/commission-holds-january-regular-meeting/\"}}\\n', ',{\"title\":\"Seeking assistance to locate missing woman - Molly HALL\",\"pubdate\":\"2023-01-23T15:14:17.000\",\"link\":{\"url\":\"https://newsroom.calgary.ca/seeking-assistance-to-locate-missing-woman---molly-hall/\"}}\\n', ',{\"title\":\"Police charge man in fatal July collision\",\"pubdate\":\"2023-01-23T12:29:18.000\",\"link\":{\"url\":\"https://newsroom.calgary.ca/police-charge-man-in-fatal-july-collision/\"}}\\n', ',{\"title\":\"Provide feedback on parking recreational  vehicles on residential properties\",\"pubdate\":\"2023-01-23T11:56:22.000\",\"link\":{\"url\":\"https://newsroom.calgary.ca/provide-feedback-on-parking-recreational--vehicles-on-residential-properties/\"}}\\n', ',{\"title\":\"Police investigate fatal Macleod Trail collision\",\"pubdate\":\"2023-01-22T13:13:51.000\",\"link\":{\"url\":\"https://newsroom.calgary.ca/police-investigate-fatal-macleod-trail-collision/\"}}\\n', ',{\"title\":\"Police arrest man wanted on warrant for sexual assault and lay additional charge\",\"pubdate\":\"2023-01-20T12:56:45.000\",\"link\":{\"url\":\"https://newsroom.calgary.ca/police-arrest-man-wanted-on-warrant-for-sexual-assault-and-lay-additional-charge/\"}}\\n', ',{\"title\":\"Calgary Transit Ambassador program \\x96 one month in and already making a difference\",\"pubdate\":\"2023-01-20T09:23:55.000\",\"link\":{\"url\":\"https://newsroom.calgary.ca/calgary-transit-ambassador-program--one-month-in-and-already-making-a-difference/\"}}\\n', ',{\"title\":\"Two people charged in attempted kidnapping and shooting incident\",\"pubdate\":\"2023-01-19T10:15:27.000\",\"link\":{\"url\":\"https://newsroom.calgary.ca/two-people-charged-in-attempted-kidnapping-and-shooting-incident/\"}}\\n', ',{\"title\":\"We\\x92re hiring! Calgary Transit is recruiting Transit Operators and Journeyperson 1 \\x96 Truck and Transport Technicians\",\"pubdate\":\"2023-01-19T10:05:43.000\",\"link\":{\"url\":\"https://newsroom.calgary.ca/were-hiring-calgary-transit-is-recruiting-transit-operators-and-journeyperson-1--truck-and-transport-technicians/\"}}\\n', ',{\"title\":\"Police charge Calgary man and woman in relation to drug and weapon seizure\",\"pubdate\":\"2023-01-19T09:28:29.000\",\"link\":{\"url\":\"https://newsroom.calgary.ca/police-charge-calgary-man-and-woman-in-relation-to-drug-and-weapon-seizure/\"}}\\n', ',{\"title\":\"Six youth charged, two outstanding, in swarming attack on store employees\",\"pubdate\":\"2023-01-19T09:11:02.000\",\"link\":{\"url\":\"https://newsroom.calgary.ca/six-youth-charged-two-outstanding-in-swarming-attack-on-store-employees/\"}}\\n', ',{\"title\":\"Police charge man with hit and run from June incident\",\"pubdate\":\"2023-01-19T08:19:20.000\",\"link\":{\"url\":\"https://newsroom.calgary.ca/police-charge-man-with-hit-and-run-from-june-incident/\"}}\\n', ',{\"title\":\"Police seek public assistance to locate missing woman \\x96 RUSSELL\",\"pubdate\":\"2023-01-18T18:33:37.000\",\"link\":{\"url\":\"https://newsroom.calgary.ca/police-seek-public-assistance-to-locate-missing-woman--russell/\"}}\\n', ',{\"title\":\"Police investigate pedestrian collision in the northwest\",\"pubdate\":\"2023-01-18T12:34:14.000\",\"link\":{\"url\":\"https://newsroom.calgary.ca/police-investigate-pedestrian-collision-in-the-northwest/\"}}\\n', ',{\"title\":\"Calgary Police Service member charged by RCMP in off-duty incident\",\"pubdate\":\"2023-01-17T15:23:02.000\",\"link\":{\"url\":\"https://newsroom.calgary.ca/calgary-police-service-member-charged-by-rcmp-in-off-duty-incident/\"}}\\n', ',{\"title\":\"Calgary Fire Crews Respond to Explosion at South East Distillery\",\"pubdate\":\"2023-01-17T15:22:26.000\",\"link\":{\"url\":\"https://newsroom.calgary.ca/calgary-fire-crews-respond-to-explosion-at-south-east-distillery/\"}}\\n', ',{\"title\":\"Calgary Police Service welcomes new members to its Anti-Racism Action Committee\",\"pubdate\":\"2023-01-17T14:47:45.000\",\"link\":{\"url\":\"https://newsroom.calgary.ca/calgary-police-service-welcomes-new-members-to-its-anti-racism-action-committee/\"}}\\n', ',{\"title\":\"City of Calgary Newsroom\",\"link\":{\"url\":\"https://newsroom.calgary.ca/\"}}]\\n']\n"
     ]
    }
   ],
   "source": [
    "with open(path,encoding= 'ISO-8859-1', errors= 'ignore') as f:\n",
    "    content = f.readlines()\n",
    "    print(content)"
   ]
  },
  {
   "cell_type": "code",
   "execution_count": 21,
   "id": "8ac8440d",
   "metadata": {},
   "outputs": [
    {
     "name": "stdout",
     "output_type": "stream",
     "text": [
      "                                                    0\n",
      "0   [{\"title\":\"Police charge man and search for wo...\n",
      "1   ,{\"title\":\"Students urged to help reimagine do...\n",
      "2   ,{\"title\":\"Calgarys development and construct...\n",
      "3   ,{\"title\":\"The City welcomes innovative food r...\n",
      "4   ,{\"title\":\"Two individuals wanted on warrants ...\n",
      "5   ,{\"title\":\"Police seek information in fatal in...\n",
      "6   ,{\"title\":\"Eligible residents can now apply fo...\n",
      "7   ,{\"title\":\"Police request public assistance to...\n",
      "8   ,{\"title\":\"Commission holds January regular me...\n",
      "9   ,{\"title\":\"Seeking assistance to locate missin...\n",
      "10  ,{\"title\":\"Police charge man in fatal July col...\n",
      "11  ,{\"title\":\"Provide feedback on parking recreat...\n",
      "12  ,{\"title\":\"Police investigate fatal Macleod Tr...\n",
      "13  ,{\"title\":\"Police arrest man wanted on warrant...\n",
      "14  ,{\"title\":\"Calgary Transit Ambassador program ...\n",
      "15  ,{\"title\":\"Two people charged in attempted kid...\n",
      "16  ,{\"title\":\"Were hiring! Calgary Transit is re...\n",
      "17  ,{\"title\":\"Police charge Calgary man and woman...\n",
      "18  ,{\"title\":\"Six youth charged, two outstanding,...\n",
      "19  ,{\"title\":\"Police charge man with hit and run ...\n",
      "20  ,{\"title\":\"Police seek public assistance to lo...\n",
      "21  ,{\"title\":\"Police investigate pedestrian colli...\n",
      "22  ,{\"title\":\"Calgary Police Service member charg...\n",
      "23  ,{\"title\":\"Calgary Fire Crews Respond to Explo...\n",
      "24  ,{\"title\":\"Calgary Police Service welcomes new...\n",
      "25  ,{\"title\":\"City of Calgary Newsroom\",\"link\":{\"...\n"
     ]
    }
   ],
   "source": [
    "jsonStr = json.dumps(content)\n",
    "jdata = json.loads(jsonStr)\n",
    "df = pd.DataFrame(jdata)\n",
    "print(df)"
   ]
  },
  {
   "cell_type": "code",
   "execution_count": 22,
   "id": "ee48cdb2",
   "metadata": {},
   "outputs": [
    {
     "data": {
      "text/html": [
       "<div>\n",
       "<style scoped>\n",
       "    .dataframe tbody tr th:only-of-type {\n",
       "        vertical-align: middle;\n",
       "    }\n",
       "\n",
       "    .dataframe tbody tr th {\n",
       "        vertical-align: top;\n",
       "    }\n",
       "\n",
       "    .dataframe thead th {\n",
       "        text-align: right;\n",
       "    }\n",
       "</style>\n",
       "<table border=\"1\" class=\"dataframe\">\n",
       "  <thead>\n",
       "    <tr style=\"text-align: right;\">\n",
       "      <th></th>\n",
       "      <th>0</th>\n",
       "    </tr>\n",
       "  </thead>\n",
       "  <tbody>\n",
       "    <tr>\n",
       "      <th>0</th>\n",
       "      <td>[{\"title\":\"Police charge man and search for wo...</td>\n",
       "    </tr>\n",
       "    <tr>\n",
       "      <th>1</th>\n",
       "      <td>,{\"title\":\"Students urged to help reimagine do...</td>\n",
       "    </tr>\n",
       "    <tr>\n",
       "      <th>2</th>\n",
       "      <td>,{\"title\":\"Calgarys development and construct...</td>\n",
       "    </tr>\n",
       "    <tr>\n",
       "      <th>3</th>\n",
       "      <td>,{\"title\":\"The City welcomes innovative food r...</td>\n",
       "    </tr>\n",
       "    <tr>\n",
       "      <th>4</th>\n",
       "      <td>,{\"title\":\"Two individuals wanted on warrants ...</td>\n",
       "    </tr>\n",
       "  </tbody>\n",
       "</table>\n",
       "</div>"
      ],
      "text/plain": [
       "                                                   0\n",
       "0  [{\"title\":\"Police charge man and search for wo...\n",
       "1  ,{\"title\":\"Students urged to help reimagine do...\n",
       "2  ,{\"title\":\"Calgarys development and construct...\n",
       "3  ,{\"title\":\"The City welcomes innovative food r...\n",
       "4  ,{\"title\":\"Two individuals wanted on warrants ..."
      ]
     },
     "execution_count": 22,
     "metadata": {},
     "output_type": "execute_result"
    }
   ],
   "source": [
    "df.head(5)"
   ]
  },
  {
   "cell_type": "code",
   "execution_count": null,
   "id": "7da982df",
   "metadata": {},
   "outputs": [],
   "source": []
  }
 ],
 "metadata": {
  "kernelspec": {
   "display_name": "Python 3 (ipykernel)",
   "language": "python",
   "name": "python3"
  },
  "language_info": {
   "codemirror_mode": {
    "name": "ipython",
    "version": 3
   },
   "file_extension": ".py",
   "mimetype": "text/x-python",
   "name": "python",
   "nbconvert_exporter": "python",
   "pygments_lexer": "ipython3",
   "version": "3.8.3"
  }
 },
 "nbformat": 4,
 "nbformat_minor": 5
}
